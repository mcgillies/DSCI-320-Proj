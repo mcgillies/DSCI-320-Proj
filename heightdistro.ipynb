{
 "cells": [
  {
   "cell_type": "code",
   "execution_count": 214,
   "id": "177becbb-a1fd-447e-beb2-b858b302371a",
   "metadata": {},
   "outputs": [],
   "source": [
    "import pandas as pd\n",
    "import altair as alt"
   ]
  },
  {
   "cell_type": "code",
   "execution_count": 215,
   "id": "64122551-71c8-41dc-9cb6-80f347b4b2fd",
   "metadata": {},
   "outputs": [
    {
     "data": {
      "text/plain": [
       "array(['SMALL FORWARD', 'SHOOTING GUARD', 'POINT GUARD', 'POWER FORWARD',\n",
       "       'CENTER', \"['POINT GUARD' 'SHOOTING GUARD']\",\n",
       "       \"['POWER FORWARD' 'SMALL FORWARD']\",\n",
       "       \"['POINT GUARD' 'POWER FORWARD' 'SMALL FORWARD']\",\n",
       "       \"['POWER FORWARD' 'SHOOTING GUARD']\", \"['CENTER' 'POWER FORWARD']\",\n",
       "       \"['SHOOTING GUARD' 'SMALL FORWARD']\", \"['CENTER' 'SMALL FORWARD']\"],\n",
       "      dtype=object)"
      ]
     },
     "execution_count": 215,
     "metadata": {},
     "output_type": "execute_result"
    }
   ],
   "source": [
    "nba_data = pd.read_csv('data/FinalDataset.csv')\n",
    "\n",
    "nba_data.head()\n",
    "\n",
    "#Data wrangling, group by NBA team and year and then aggregating certain columns to get season totals by team and year\n",
    "\n",
    "nba_data['positions'].unique()"
   ]
  },
  {
   "cell_type": "code",
   "execution_count": 216,
   "id": "a2393eef-d9ff-4b7a-ae63-7853c0c9747e",
   "metadata": {},
   "outputs": [],
   "source": [
    "#reformat the position column so we can explode it\n",
    "import ast\n",
    "\n",
    "def convert_to_list(x):\n",
    "    if not isinstance(x, list):\n",
    "        return [x]\n",
    "    else:\n",
    "        return x\n",
    "\n",
    "    \n",
    "nba_data['positions'] = nba_data['positions'].apply(convert_to_list)\n",
    "\n",
    "def remove_extra_brackets(x):\n",
    "    if len(x[0]) > 20:\n",
    "        txt = x[0].replace(\"['\", \"['\").replace(\"' '\", \"', '\")\n",
    "        return ast.literal_eval(txt)\n",
    "        \n",
    "    return x\n",
    "\n",
    "nba_data['positions'] = nba_data['positions'].apply(remove_extra_brackets)\n",
    "\n",
    "\n",
    "\n",
    "nba_data_boom = nba_data.explode('positions')"
   ]
  },
  {
   "cell_type": "code",
   "execution_count": null,
   "id": "f57ef7ac-51dc-4356-8d43-8d8bf8e728db",
   "metadata": {},
   "outputs": [],
   "source": []
  },
  {
   "cell_type": "code",
   "execution_count": 241,
   "id": "42cb488b-3a43-480b-9bef-47a6f92dc351",
   "metadata": {},
   "outputs": [
    {
     "ename": "SchemaValidationError",
     "evalue": "Invalid specification\n\n        altair.vegalite.v4.schema.core.BoxPlotDef, validating 'additionalProperties'\n\n        Additional properties are not allowed ('bandSize' was unexpected)\n        ",
     "output_type": "error",
     "traceback": [
      "\u001b[1;31m---------------------------------------------------------------------------\u001b[0m",
      "\u001b[1;31mSchemaValidationError\u001b[0m                     Traceback (most recent call last)",
      "Cell \u001b[1;32mIn[241], line 3\u001b[0m\n\u001b[0;32m      1\u001b[0m position_order \u001b[38;5;241m=\u001b[39m [\u001b[38;5;124m'\u001b[39m\u001b[38;5;124mPOINT GUARD\u001b[39m\u001b[38;5;124m'\u001b[39m, \u001b[38;5;124m'\u001b[39m\u001b[38;5;124mSHOOTING GUARD\u001b[39m\u001b[38;5;124m'\u001b[39m, \u001b[38;5;124m'\u001b[39m\u001b[38;5;124mSMALL FORWARD\u001b[39m\u001b[38;5;124m'\u001b[39m, \u001b[38;5;124m'\u001b[39m\u001b[38;5;124mPOWER FORWARD\u001b[39m\u001b[38;5;124m'\u001b[39m, \u001b[38;5;124m'\u001b[39m\u001b[38;5;124mCENTER\u001b[39m\u001b[38;5;124m'\u001b[39m]\n\u001b[1;32m----> 3\u001b[0m weight_boxplot \u001b[38;5;241m=\u001b[39m \u001b[43malt\u001b[49m\u001b[38;5;241;43m.\u001b[39;49m\u001b[43mChart\u001b[49m\u001b[43m(\u001b[49m\u001b[43mnba_data_boom\u001b[49m\u001b[43m,\u001b[49m\u001b[43m \u001b[49m\u001b[43mtitle\u001b[49m\u001b[43m \u001b[49m\u001b[38;5;241;43m=\u001b[39;49m\u001b[43m \u001b[49m\u001b[38;5;124;43m'\u001b[39;49m\u001b[38;5;124;43mDistribution of NBA Player Weight\u001b[39;49m\u001b[38;5;124;43m'\u001b[39;49m\u001b[43m)\u001b[49m\u001b[38;5;241;43m.\u001b[39;49m\u001b[43mmark_boxplot\u001b[49m\u001b[43m(\u001b[49m\n\u001b[0;32m      4\u001b[0m \u001b[43m    \u001b[49m\u001b[43mmedian\u001b[49m\u001b[38;5;241;43m=\u001b[39;49m\u001b[43m{\u001b[49m\u001b[38;5;124;43m\"\u001b[39;49m\u001b[38;5;124;43mcolor\u001b[39;49m\u001b[38;5;124;43m\"\u001b[39;49m\u001b[43m:\u001b[49m\u001b[43m \u001b[49m\u001b[38;5;124;43m\"\u001b[39;49m\u001b[38;5;124;43mred\u001b[39;49m\u001b[38;5;124;43m\"\u001b[39;49m\u001b[43m}\u001b[49m\u001b[43m,\u001b[49m\n\u001b[0;32m      5\u001b[0m \u001b[43m    \u001b[49m\u001b[43mextent\u001b[49m\u001b[38;5;241;43m=\u001b[39;49m\u001b[38;5;241;43m3\u001b[39;49m\u001b[43m,\u001b[49m\n\u001b[0;32m      6\u001b[0m \u001b[43m    \u001b[49m\u001b[43mticks\u001b[49m\u001b[38;5;241;43m=\u001b[39;49m\u001b[43m \u001b[49m\u001b[38;5;28;43;01mTrue\u001b[39;49;00m\u001b[43m,\u001b[49m\n\u001b[0;32m      7\u001b[0m \u001b[43m    \u001b[49m\u001b[43mbandSize\u001b[49m\u001b[43m \u001b[49m\u001b[38;5;241;43m=\u001b[39;49m\u001b[43m \u001b[49m\u001b[38;5;241;43m10\u001b[39;49m\u001b[43m,\u001b[49m\n\u001b[0;32m      8\u001b[0m \u001b[43m)\u001b[49m\u001b[38;5;241m.\u001b[39mencode(\n\u001b[0;32m      9\u001b[0m     alt\u001b[38;5;241m.\u001b[39mX(\u001b[38;5;124m'\u001b[39m\u001b[38;5;124mpositions\u001b[39m\u001b[38;5;124m'\u001b[39m, scale \u001b[38;5;241m=\u001b[39m alt\u001b[38;5;241m.\u001b[39mScale(domain \u001b[38;5;241m=\u001b[39m position_order), axis \u001b[38;5;241m=\u001b[39m alt\u001b[38;5;241m.\u001b[39mAxis(labelAngle \u001b[38;5;241m=\u001b[39m \u001b[38;5;241m45\u001b[39m)),\n\u001b[0;32m     10\u001b[0m     alt\u001b[38;5;241m.\u001b[39mY(\u001b[38;5;124m'\u001b[39m\u001b[38;5;124mplayer_weight\u001b[39m\u001b[38;5;124m'\u001b[39m, scale\u001b[38;5;241m=\u001b[39malt\u001b[38;5;241m.\u001b[39mScale(domain \u001b[38;5;241m=\u001b[39m [\u001b[38;5;241m55\u001b[39m, \u001b[38;5;241m140\u001b[39m]), title \u001b[38;5;241m=\u001b[39m \u001b[38;5;124m\"\u001b[39m\u001b[38;5;124mWeight(kg)\u001b[39m\u001b[38;5;124m\"\u001b[39m),\n\u001b[0;32m     11\u001b[0m     alt\u001b[38;5;241m.\u001b[39mColor(\u001b[38;5;124m'\u001b[39m\u001b[38;5;124mpositions\u001b[39m\u001b[38;5;124m'\u001b[39m, scale\u001b[38;5;241m=\u001b[39malt\u001b[38;5;241m.\u001b[39mScale(scheme\u001b[38;5;241m=\u001b[39m\u001b[38;5;124m'\u001b[39m\u001b[38;5;124mrainbow\u001b[39m\u001b[38;5;124m'\u001b[39m))\n\u001b[0;32m     12\u001b[0m )\u001b[38;5;241m.\u001b[39mproperties(\n\u001b[0;32m     13\u001b[0m     width \u001b[38;5;241m=\u001b[39m \u001b[38;5;241m300\u001b[39m,\n\u001b[0;32m     14\u001b[0m     height \u001b[38;5;241m=\u001b[39m \u001b[38;5;241m500\u001b[39m\n\u001b[0;32m     15\u001b[0m )\n\u001b[0;32m     16\u001b[0m weight_boxplot    \n",
      "File \u001b[1;32m~\\miniconda3\\lib\\site-packages\\altair\\vegalite\\v4\\schema\\mixins.py:849\u001b[0m, in \u001b[0;36mMarkMethodMixin.mark_boxplot\u001b[1;34m(self, box, clip, color, extent, median, opacity, orient, outliers, rule, size, ticks, **kwds)\u001b[0m\n\u001b[0;32m    847\u001b[0m copy \u001b[38;5;241m=\u001b[39m \u001b[38;5;28mself\u001b[39m\u001b[38;5;241m.\u001b[39mcopy(deep\u001b[38;5;241m=\u001b[39m\u001b[38;5;28;01mFalse\u001b[39;00m)\n\u001b[0;32m    848\u001b[0m \u001b[38;5;28;01mif\u001b[39;00m \u001b[38;5;28many\u001b[39m(val \u001b[38;5;129;01mis\u001b[39;00m \u001b[38;5;129;01mnot\u001b[39;00m Undefined \u001b[38;5;28;01mfor\u001b[39;00m val \u001b[38;5;129;01min\u001b[39;00m kwds\u001b[38;5;241m.\u001b[39mvalues()):\n\u001b[1;32m--> 849\u001b[0m     copy\u001b[38;5;241m.\u001b[39mmark \u001b[38;5;241m=\u001b[39m core\u001b[38;5;241m.\u001b[39mBoxPlotDef(\u001b[38;5;28mtype\u001b[39m\u001b[38;5;241m=\u001b[39m\u001b[38;5;124m\"\u001b[39m\u001b[38;5;124mboxplot\u001b[39m\u001b[38;5;124m\"\u001b[39m, \u001b[38;5;241m*\u001b[39m\u001b[38;5;241m*\u001b[39mkwds)\n\u001b[0;32m    850\u001b[0m \u001b[38;5;28;01melse\u001b[39;00m:\n\u001b[0;32m    851\u001b[0m     copy\u001b[38;5;241m.\u001b[39mmark \u001b[38;5;241m=\u001b[39m \u001b[38;5;124m\"\u001b[39m\u001b[38;5;124mboxplot\u001b[39m\u001b[38;5;124m\"\u001b[39m\n",
      "File \u001b[1;32m~\\miniconda3\\lib\\site-packages\\altair\\vegalite\\v4\\schema\\core.py:2076\u001b[0m, in \u001b[0;36mBoxPlotDef.__init__\u001b[1;34m(self, type, box, clip, color, extent, median, opacity, orient, outliers, rule, size, ticks, **kwds)\u001b[0m\n\u001b[0;32m   2073\u001b[0m \u001b[38;5;28;01mdef\u001b[39;00m \u001b[38;5;21m__init__\u001b[39m(\u001b[38;5;28mself\u001b[39m, \u001b[38;5;28mtype\u001b[39m\u001b[38;5;241m=\u001b[39mUndefined, box\u001b[38;5;241m=\u001b[39mUndefined, clip\u001b[38;5;241m=\u001b[39mUndefined, color\u001b[38;5;241m=\u001b[39mUndefined, extent\u001b[38;5;241m=\u001b[39mUndefined,\n\u001b[0;32m   2074\u001b[0m              median\u001b[38;5;241m=\u001b[39mUndefined, opacity\u001b[38;5;241m=\u001b[39mUndefined, orient\u001b[38;5;241m=\u001b[39mUndefined, outliers\u001b[38;5;241m=\u001b[39mUndefined,\n\u001b[0;32m   2075\u001b[0m              rule\u001b[38;5;241m=\u001b[39mUndefined, size\u001b[38;5;241m=\u001b[39mUndefined, ticks\u001b[38;5;241m=\u001b[39mUndefined, \u001b[38;5;241m*\u001b[39m\u001b[38;5;241m*\u001b[39mkwds):\n\u001b[1;32m-> 2076\u001b[0m     \u001b[38;5;28msuper\u001b[39m(BoxPlotDef, \u001b[38;5;28mself\u001b[39m)\u001b[38;5;241m.\u001b[39m\u001b[38;5;21m__init__\u001b[39m(\u001b[38;5;28mtype\u001b[39m\u001b[38;5;241m=\u001b[39m\u001b[38;5;28mtype\u001b[39m, box\u001b[38;5;241m=\u001b[39mbox, clip\u001b[38;5;241m=\u001b[39mclip, color\u001b[38;5;241m=\u001b[39mcolor, extent\u001b[38;5;241m=\u001b[39mextent,\n\u001b[0;32m   2077\u001b[0m                                      median\u001b[38;5;241m=\u001b[39mmedian, opacity\u001b[38;5;241m=\u001b[39mopacity, orient\u001b[38;5;241m=\u001b[39morient,\n\u001b[0;32m   2078\u001b[0m                                      outliers\u001b[38;5;241m=\u001b[39moutliers, rule\u001b[38;5;241m=\u001b[39mrule, size\u001b[38;5;241m=\u001b[39msize, ticks\u001b[38;5;241m=\u001b[39mticks, \u001b[38;5;241m*\u001b[39m\u001b[38;5;241m*\u001b[39mkwds)\n",
      "File \u001b[1;32m~\\miniconda3\\lib\\site-packages\\altair\\vegalite\\v4\\schema\\core.py:2013\u001b[0m, in \u001b[0;36mCompositeMarkDef.__init__\u001b[1;34m(self, *args, **kwds)\u001b[0m\n\u001b[0;32m   2012\u001b[0m \u001b[38;5;28;01mdef\u001b[39;00m \u001b[38;5;21m__init__\u001b[39m(\u001b[38;5;28mself\u001b[39m, \u001b[38;5;241m*\u001b[39margs, \u001b[38;5;241m*\u001b[39m\u001b[38;5;241m*\u001b[39mkwds):\n\u001b[1;32m-> 2013\u001b[0m     \u001b[38;5;28msuper\u001b[39m(CompositeMarkDef, \u001b[38;5;28mself\u001b[39m)\u001b[38;5;241m.\u001b[39m\u001b[38;5;21m__init__\u001b[39m(\u001b[38;5;241m*\u001b[39margs, \u001b[38;5;241m*\u001b[39m\u001b[38;5;241m*\u001b[39mkwds)\n",
      "File \u001b[1;32m~\\miniconda3\\lib\\site-packages\\altair\\vegalite\\v4\\schema\\core.py:104\u001b[0m, in \u001b[0;36mAnyMark.__init__\u001b[1;34m(self, *args, **kwds)\u001b[0m\n\u001b[0;32m    103\u001b[0m \u001b[38;5;28;01mdef\u001b[39;00m \u001b[38;5;21m__init__\u001b[39m(\u001b[38;5;28mself\u001b[39m, \u001b[38;5;241m*\u001b[39margs, \u001b[38;5;241m*\u001b[39m\u001b[38;5;241m*\u001b[39mkwds):\n\u001b[1;32m--> 104\u001b[0m     \u001b[38;5;28msuper\u001b[39m(AnyMark, \u001b[38;5;28mself\u001b[39m)\u001b[38;5;241m.\u001b[39m\u001b[38;5;21m__init__\u001b[39m(\u001b[38;5;241m*\u001b[39margs, \u001b[38;5;241m*\u001b[39m\u001b[38;5;241m*\u001b[39mkwds)\n",
      "File \u001b[1;32m~\\miniconda3\\lib\\site-packages\\altair\\utils\\schemapi.py:197\u001b[0m, in \u001b[0;36mSchemaBase.__init__\u001b[1;34m(self, *args, **kwds)\u001b[0m\n\u001b[0;32m    194\u001b[0m \u001b[38;5;28mobject\u001b[39m\u001b[38;5;241m.\u001b[39m\u001b[38;5;21m__setattr__\u001b[39m(\u001b[38;5;28mself\u001b[39m, \u001b[38;5;124m\"\u001b[39m\u001b[38;5;124m_kwds\u001b[39m\u001b[38;5;124m\"\u001b[39m, kwds)\n\u001b[0;32m    196\u001b[0m \u001b[38;5;28;01mif\u001b[39;00m DEBUG_MODE \u001b[38;5;129;01mand\u001b[39;00m \u001b[38;5;28mself\u001b[39m\u001b[38;5;241m.\u001b[39m_class_is_valid_at_instantiation:\n\u001b[1;32m--> 197\u001b[0m     \u001b[38;5;28;43mself\u001b[39;49m\u001b[38;5;241;43m.\u001b[39;49m\u001b[43mto_dict\u001b[49m\u001b[43m(\u001b[49m\u001b[43mvalidate\u001b[49m\u001b[38;5;241;43m=\u001b[39;49m\u001b[38;5;28;43;01mTrue\u001b[39;49;00m\u001b[43m)\u001b[49m\n",
      "File \u001b[1;32m~\\miniconda3\\lib\\site-packages\\altair\\utils\\schemapi.py:360\u001b[0m, in \u001b[0;36mSchemaBase.to_dict\u001b[1;34m(self, validate, ignore, context)\u001b[0m\n\u001b[0;32m    358\u001b[0m         \u001b[38;5;28mself\u001b[39m\u001b[38;5;241m.\u001b[39mvalidate(result)\n\u001b[0;32m    359\u001b[0m     \u001b[38;5;28;01mexcept\u001b[39;00m jsonschema\u001b[38;5;241m.\u001b[39mValidationError \u001b[38;5;28;01mas\u001b[39;00m err:\n\u001b[1;32m--> 360\u001b[0m         \u001b[38;5;28;01mraise\u001b[39;00m SchemaValidationError(\u001b[38;5;28mself\u001b[39m, err)\n\u001b[0;32m    361\u001b[0m \u001b[38;5;28;01mreturn\u001b[39;00m result\n",
      "\u001b[1;31mSchemaValidationError\u001b[0m: Invalid specification\n\n        altair.vegalite.v4.schema.core.BoxPlotDef, validating 'additionalProperties'\n\n        Additional properties are not allowed ('bandSize' was unexpected)\n        "
     ]
    }
   ],
   "source": [
    "position_order = ['POINT GUARD', 'SHOOTING GUARD', 'SMALL FORWARD', 'POWER FORWARD', 'CENTER']\n",
    "\n",
    "weight_boxplot = alt.Chart(nba_data_boom, title = 'Distribution of NBA Player Weight').mark_boxplot(\n",
    "    median={\"color\": \"red\"},\n",
    "    extent=3,\n",
    "    ticks= True,\n",
    ").encode(\n",
    "    alt.X('positions', scale = alt.Scale(domain = position_order), axis = alt.Axis(labelAngle = 45)),\n",
    "    alt.Y('player_weight', scale=alt.Scale(domain = [55, 140]), title = \"Weight(kg)\"),\n",
    "    alt.Color('positions', scale=alt.Scale(scheme='rainbow'))\n",
    ").properties(\n",
    "    width = 300,\n",
    "    height = 500\n",
    ")\n",
    "weight_boxplot    "
   ]
  },
  {
   "cell_type": "code",
   "execution_count": 239,
   "id": "735f2826-faca-432c-aca8-fa2852c6d16b",
   "metadata": {},
   "outputs": [
    {
     "name": "stdout",
     "output_type": "stream",
     "text": [
      "['CENTER', 'POWER FORWARD']\n"
     ]
    }
   ],
   "source": [
    "def convert_to_list(x):\n",
    "    if not isinstance(x, list):\n",
    "        return [x]\n",
    "    else:\n",
    "        return x\n",
    "\n",
    "    \n",
    "nba_data['positions'] = nba_data['positions'].apply(convert_to_list)\n",
    "\n",
    "def remove_extra_brackets(x):\n",
    "    if len(x[0]) > 20:\n",
    "        txt = x[0].replace(\"['\", \"['\").replace(\"' '\", \"', '\")\n",
    "        return txt\n",
    "        \n",
    "    return x\n",
    "\n",
    "nba_data['positions'] = nba_data['positions'].apply(remove_extra_brackets)\n",
    "        \n",
    "   \n",
    "\n",
    "        \n",
    "\n",
    "print(nba_data['positions'][275])\n",
    "\n"
   ]
  },
  {
   "cell_type": "code",
   "execution_count": 185,
   "id": "c923165b-fb9a-45be-aa54-84bc7e3045b1",
   "metadata": {},
   "outputs": [
    {
     "data": {
      "text/plain": [
       "\"['POINT GUARD', 'SHOOTING GUARD']\""
      ]
     },
     "execution_count": 185,
     "metadata": {},
     "output_type": "execute_result"
    }
   ],
   "source": []
  },
  {
   "cell_type": "code",
   "execution_count": null,
   "id": "325bf5d0-f47e-47c1-8c26-7a284839ba03",
   "metadata": {},
   "outputs": [],
   "source": []
  }
 ],
 "metadata": {
  "kernelspec": {
   "display_name": "Python [conda env:root] *",
   "language": "python",
   "name": "conda-root-py"
  },
  "language_info": {
   "codemirror_mode": {
    "name": "ipython",
    "version": 3
   },
   "file_extension": ".py",
   "mimetype": "text/x-python",
   "name": "python",
   "nbconvert_exporter": "python",
   "pygments_lexer": "ipython3",
   "version": "3.10.6"
  }
 },
 "nbformat": 4,
 "nbformat_minor": 5
}
