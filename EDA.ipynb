{
 "cells": [
  {
   "cell_type": "code",
   "execution_count": null,
   "id": "9134be06-8f28-424d-aa3d-3cb7efb77982",
   "metadata": {},
   "outputs": [],
   "source": [
    "import pandas as pd\n",
    "import altair as alt\n",
    "import matplotlib.pyplot as plt\n",
    "import seaborn as sn"
   ]
  },
  {
   "cell_type": "markdown",
   "id": "4310e973-86a8-454b-9c00-479fa99ba310",
   "metadata": {},
   "source": [
    "# Exploratory Data Analysis\n",
    "### DSCI 320 Project - Matthew Gillies, Jordon Chen, Lucas Moynier"
   ]
  },
  {
   "cell_type": "code",
   "execution_count": null,
   "id": "a5ecd2b1-1456-4107-95aa-85ae7551730d",
   "metadata": {},
   "outputs": [],
   "source": [
    "## Reading in data from URL:\n",
    "data = pd.read_csv(\"https://docs.google.com/spreadsheets/d/e/2PACX-1vQ-1fqyvskEHodIPX8O-4_QvUHmXUXCAvNETbYZs8e0ZRO_trGzV64tDjskf_oe_t83JjpzOS_D5kfZ/pub?gid=1833496207&single=true&output=csv\")"
   ]
  },
  {
   "cell_type": "code",
   "execution_count": null,
   "id": "6dacd3ea-9d6e-49cd-8c5b-5a60481a1726",
   "metadata": {},
   "outputs": [],
   "source": [
    "data.head()"
   ]
  },
  {
   "cell_type": "code",
   "execution_count": null,
   "id": "a2286cec-24b8-4019-af50-dce838694c44",
   "metadata": {},
   "outputs": [],
   "source": [
    "data.columns"
   ]
  },
  {
   "cell_type": "code",
   "execution_count": null,
   "id": "404455f6-96ad-47ab-b928-fb9b6fdbaccf",
   "metadata": {},
   "outputs": [],
   "source": [
    "data.shape"
   ]
  },
  {
   "cell_type": "markdown",
   "id": "57eb70e4-1a6c-46ed-a7a5-3ed5cc08d63f",
   "metadata": {},
   "source": [
    "The dataframe has 9756 rows with 61 features"
   ]
  },
  {
   "cell_type": "code",
   "execution_count": null,
   "id": "93f894f4-3d00-42b9-ba81-49ba70aefbd0",
   "metadata": {},
   "outputs": [],
   "source": [
    "pd.DataFrame(data.dtypes).value_counts()"
   ]
  },
  {
   "cell_type": "markdown",
   "id": "fdd3a202-eb42-459d-8dc2-6d0d76b5ab3b",
   "metadata": {},
   "source": [
    "Note: Not all rows are printed due to large output size\n",
    "It appears that numeric features are represented by float or int, while categorical features are represented as an object. "
   ]
  },
  {
   "cell_type": "code",
   "execution_count": null,
   "id": "570685d0-ed8b-4637-9fe4-dc5e1b36f044",
   "metadata": {},
   "outputs": [],
   "source": [
    "## Removing 'Unnamed: 0' column along with duplicate columns\n",
    "data = data.drop(columns = [\"Unnamed: 0\", \"pts\", \"reb\", \"ast\"])"
   ]
  },
  {
   "cell_type": "code",
   "execution_count": null,
   "id": "eca0917f-c245-43de-90c8-3774d866cccc",
   "metadata": {},
   "outputs": [],
   "source": [
    "## Analyzing distribution of NA values\n",
    "pd.DataFrame(data.isna().sum()).sort_values(by = 0,ascending = False).head(20)"
   ]
  },
  {
   "cell_type": "markdown",
   "id": "e3794e7d-f3b2-41cd-a5c9-45fa1208aa6b",
   "metadata": {},
   "source": [
    "It is likely that the NA values for the first 6 rows in the table above are due to the player not shooting from that distance (ie. centers who do not shoot outside of the paint). Therefore we will replace NA's in these six features with zeroes, and then remove all rows with other NA values. This will also be done to prevent the removal of an extremely large amount of our data. \n",
    "##### This will not be done as altair requires < 5000 rows of data for visualizations"
   ]
  },
  {
   "cell_type": "code",
   "execution_count": null,
   "id": "bee341ef-e81e-46ab-9256-a504f2ccd103",
   "metadata": {},
   "outputs": [],
   "source": [
    "## Removing all other rows with NA values\n",
    "data = data.dropna()\n",
    "data.isna().values.any()"
   ]
  },
  {
   "cell_type": "code",
   "execution_count": null,
   "id": "e85146df-7bc1-4806-b9b2-f92d0630c27d",
   "metadata": {},
   "outputs": [],
   "source": [
    "data.shape"
   ]
  },
  {
   "cell_type": "code",
   "execution_count": null,
   "id": "08bc5626-05c7-413a-9c1e-8fb5bc82a8d5",
   "metadata": {},
   "outputs": [],
   "source": [
    "data = data[-data['Year'].isin([2001,2002,2003, 2004, 2005, 2006, 2007])]"
   ]
  },
  {
   "cell_type": "code",
   "execution_count": null,
   "id": "e159f468-6001-4b20-b6da-9b04540bf726",
   "metadata": {},
   "outputs": [],
   "source": [
    "data.shape"
   ]
  },
  {
   "cell_type": "code",
   "execution_count": null,
   "id": "5118b234-aca2-46bd-95b7-000efa34acc0",
   "metadata": {},
   "outputs": [],
   "source": [
    "## Converting columns that should be integers \n",
    "int_cols = ['points', 'assists', 'made_field_goals', 'attempted_field_goals','made_three_point_field_goals',\n",
    "            'attempted_three_point_field_goals', 'made_free_throws','attempted_free_throws', 'offensive_rebounds',\n",
    "            'defensive_rebounds', 'steals', 'blocks', 'turnovers', 'personal_fouls', '# of Dunks', 'Attempted Heaves', \n",
    "            '# of Heaves']\n",
    "for c in int_cols:\n",
    "    data[c] = data[c].round(0).astype(int)"
   ]
  },
  {
   "cell_type": "code",
   "execution_count": null,
   "id": "4737bb96-59f3-4e33-9d49-8d9b87085173",
   "metadata": {},
   "outputs": [],
   "source": [
    "data.dtypes.value_counts()"
   ]
  },
  {
   "cell_type": "code",
   "execution_count": null,
   "id": "7031c523-b650-4644-bf94-9714b53a9dca",
   "metadata": {},
   "outputs": [],
   "source": [
    "pd.DataFrame(data.describe())"
   ]
  },
  {
   "cell_type": "code",
   "execution_count": null,
   "id": "4c18525f-6ce5-4e38-96f1-e3772128e7cc",
   "metadata": {},
   "outputs": [],
   "source": [
    "## Renaming slug column to abbr (abbreviation)\n",
    "data = data.rename(columns = {\"slug\":\"abbr\", \"% of FG Ast'd 2P\":\"2P FG AST%\", \"% of FG Ast'd 3P\":\"3P FG AST%\", \"Dist.\":\"Dist\"})"
   ]
  },
  {
   "cell_type": "code",
   "execution_count": null,
   "id": "d794f0ac-8341-4d0e-b040-11e33bdf8909",
   "metadata": {
    "tags": []
   },
   "outputs": [],
   "source": [
    "## Splitting dataset into numeric/categorical features\n",
    "categorical = data.dtypes[data.dtypes == \"object\"]\n",
    "categorical"
   ]
  },
  {
   "cell_type": "code",
   "execution_count": null,
   "id": "4e02d315-c3ce-4b32-8da1-eb50d7a6aeb1",
   "metadata": {},
   "outputs": [],
   "source": [
    "cat_features = [\"name\", \"college\", \"country\", \"draft_year\", \"draft_round\", \"draft_number\", \"abbr\", \"positions\", \"team\", \"Year\"]\n",
    "cat_data = data[data.columns[data.columns.isin(cat_features)]]\n",
    "cat_data.head()"
   ]
  },
  {
   "cell_type": "code",
   "execution_count": null,
   "id": "78dd3564-6f01-4d8e-af0e-231ceede7708",
   "metadata": {},
   "outputs": [],
   "source": [
    "numeric_data = data.drop(columns = cat_features)\n",
    "numeric_data.columns"
   ]
  },
  {
   "cell_type": "code",
   "execution_count": null,
   "id": "6e748fb2-f102-4be3-99a5-65458bb71ac1",
   "metadata": {},
   "outputs": [],
   "source": [
    "## Visualizing Bar Charts for categorical features (not visualizing player name/abbreviation due to extremely large output as\n",
    "## each name/abbreviation is unique anyways)\n",
    "col1 = [\"college\", \"country\", \"draft_year\", \"draft_round\", \"draft_number\", \"positions\", \"team\", \"Year\"]\n",
    "for col in col1:\n",
    "    chart = alt.Chart(data).mark_bar().encode(\n",
    "        alt.X(\"count()\"),\n",
    "        alt.Y(col))\n",
    "    chart.display()"
   ]
  },
  {
   "cell_type": "code",
   "execution_count": null,
   "id": "de06deab-13c5-4269-addc-1bb482709935",
   "metadata": {},
   "outputs": [],
   "source": [
    "numeric_cols = numeric_data.columns.tolist()\n",
    "for n in numeric_cols:\n",
    "    chart = alt.Chart(data).mark_area().encode(\n",
    "        alt.Y(\"density:Q\"), \n",
    "        alt.X(n)\n",
    "    ).transform_density(\n",
    "        n, [n, \"density\"])\n",
    "    chart.display()"
   ]
  },
  {
   "cell_type": "code",
   "execution_count": null,
   "id": "c1ae0079-7ad5-4cd4-91d2-420c6e00e4de",
   "metadata": {},
   "outputs": [],
   "source": [
    "## Viewing the relationship between # of Dunks and draft pick number\n",
    "pd.crosstab(index = data['# of Dunks'], columns = data['draft_number'])"
   ]
  },
  {
   "cell_type": "code",
   "execution_count": null,
   "id": "40c53046-2e9b-487c-8909-dacc9cece07f",
   "metadata": {},
   "outputs": [],
   "source": [
    "## Visualizing the correlations of shot data\n",
    "percent_cols = ['FG%', 'Dist.', '% of FGA by Distance 2P',\n",
    "       '% of FGA by Distance 0-3', '% of FGA by Distance 3-10',\n",
    "       '% of FGA by Distance 10-16', '% of FGA by Distance 16-3P',\n",
    "       '% of FGA by Distance 3P', 'FG% by Distance 2P', 'FG% by Distance 0-3',\n",
    "       'FG% by Distance 3-10', 'FG% by Distance 10-16',\n",
    "       'FG% by Distance 16-3P', 'FG% by Distance 3P', '2P FG AST%',\n",
    "       '3P FG AST%', 'Dunks %FGA', '# of Dunks', 'Corner 3s %3PA',\n",
    "       'Corner 3s 3P%']\n",
    "perc_data = data[data.columns[data.columns.isin(percent_cols)]]\n",
    "corr_matrix = perc_data.corr()\n",
    "plt.rcParams.update({'font.size': 100})\n",
    "plt.figure(figsize = (200,200))\n",
    "sn.heatmap(corr_matrix, annot = True)"
   ]
  },
  {
   "cell_type": "code",
   "execution_count": null,
   "id": "dbef6bff-0f82-478f-b4ad-bddf093ac9bc",
   "metadata": {},
   "outputs": [],
   "source": [
    "## Viewing distribution of shot distance by year\n",
    "alt.Chart(data, title = \"Average shot distance by year\").mark_bar().encode(\n",
    "    alt.X('Year:N', sort='-y'),\n",
    "    alt.Y('mean(Dist)', axis = alt.Axis(title = \"Average Shot Distance\"))\n",
    ").properties(height = 400, width = 800)"
   ]
  },
  {
   "cell_type": "code",
   "execution_count": null,
   "id": "67949994-e654-41ae-8954-ac2b835e4f92",
   "metadata": {},
   "outputs": [],
   "source": [
    "## Viewing overlapping density plot of 3 point % and % of 3 pointers assisted. \n",
    "alt.Chart(data).transform_fold(\n",
    "    ['FG% by Distance 3P',\n",
    "     \"3P FG AST%\"],\n",
    "    as_ = [\"Percent\", \"value\"]\n",
    ").transform_density(\n",
    "    density='value',\n",
    "    bandwidth=0.3,\n",
    "    groupby=['Percent'],\n",
    "    counts = True\n",
    ").mark_area().encode(\n",
    "    alt.X('value:Q'),\n",
    "    alt.Y('density:Q', stack = None),\n",
    "    alt.Color(\"Percent:N\")\n",
    ").properties(width=400, height=400)"
   ]
  }
 ],
 "metadata": {
  "kernelspec": {
   "display_name": "Python 3 (ipykernel)",
   "language": "python",
   "name": "python3"
  },
  "language_info": {
   "codemirror_mode": {
    "name": "ipython",
    "version": 3
   },
   "file_extension": ".py",
   "mimetype": "text/x-python",
   "name": "python",
   "nbconvert_exporter": "python",
   "pygments_lexer": "ipython3",
   "version": "3.10.8"
  }
 },
 "nbformat": 4,
 "nbformat_minor": 5
}
